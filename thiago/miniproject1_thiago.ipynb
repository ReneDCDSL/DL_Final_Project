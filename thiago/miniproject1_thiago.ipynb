{
 "cells": [
  {
   "cell_type": "code",
   "execution_count": 57,
   "id": "ae69bd79",
   "metadata": {},
   "outputs": [],
   "source": [
    "import torch\n",
    "import inspect\n",
    "import math\n",
    "from time import perf_counter\n",
    "from torchvision import datasets\n",
    "import torchvision.transforms as transforms\n",
    "import matplotlib.pyplot as plt\n",
    "from torch import nn\n",
    "from torch.nn import functional as F\n",
    "import dlc_practical_prologue as prologue\n",
    "import os    \n",
    "import itertools \n",
    "os.environ['KMP_DUPLICATE_LIB_OK']='True'\n",
    "%matplotlib inline  "
   ]
  },
  {
   "cell_type": "code",
   "execution_count": 64,
   "id": "c3abeec4",
   "metadata": {},
   "outputs": [],
   "source": [
    "train_input, train_target, train_classes, test_input, test_target, test_classes  = prologue.generate_pair_sets(1000)"
   ]
  },
  {
   "cell_type": "code",
   "execution_count": 65,
   "id": "05a9560a",
   "metadata": {},
   "outputs": [],
   "source": [
    "def showTensor(aTensor):\n",
    "    fig = plt.figure(figsize=(5, 5), dpi=20)\n",
    "    plt.axis('off')\n",
    "    plt.figure()\n",
    "    plt.imshow(aTensor.numpy(), cmap='Greys')\n",
    "    #plt.colorbar()\n",
    "    plt.show()"
   ]
  },
  {
   "cell_type": "code",
   "execution_count": 298,
   "id": "041e2a2e",
   "metadata": {},
   "outputs": [],
   "source": [
    "class Net(nn.Module):\n",
    "    \n",
    "    def __init__(self):\n",
    "        super().__init__()\n",
    "        self.conv1 = nn.Conv2d(2, 16, kernel_size=4)\n",
    "        self.conv2 = nn.Conv2d(16, 32, kernel_size=4)\n",
    "        self.fc1 = nn.Linear(128, 64)\n",
    "        self.fc2 = nn.Linear(64, 32)\n",
    "        self.fc3 = nn.Linear(32, 2)\n",
    "        # uses BatchNorm cause otherwise the model lose the gradient with higher learning rates\n",
    "        #self.norm1d = nn.BatchNorm1d(128)\n",
    "        self.norm2d = nn.BatchNorm2d(16)\n",
    "\n",
    "    def forward(self, x):\n",
    "        x = F.relu(F.max_pool2d(self.conv1(x), kernel_size=4, stride=1))\n",
    "        x = self.norm2d(x)\n",
    "        x = F.relu(F.max_pool2d(self.conv2(x), kernel_size=4, stride=1))\n",
    "        x = x.view(-1, 128)\n",
    "        #x = self.norm1d(x)\n",
    "        x = F.relu(self.fc1(x))\n",
    "        x = F.relu(self.fc2(x))\n",
    "        x = self.fc3(x)\n",
    "        return x\n",
    "    \n",
    "model, criterion = Net(), nn.MSELoss()\n",
    "eta, mini_batch_size = 1e-1, 50\n",
    "nb_epochs = 10\n",
    "\n",
    "\n",
    "\n",
    "def train_model(model, train_input,train_target, test_input, test_target, mini_batch_size = 50, nb_epochs = 10, learning_rate = 1e-1, \n",
    "                eta = 1e-1, mse = True):\n",
    "    \n",
    "    train_acc_loss_list = []\n",
    "    test_acc__loss_list = []\n",
    "    train_acc = []\n",
    "    test_acc = []\n",
    "    if mse == True:\n",
    "        criterion = nn.MSELoss()\n",
    "        F.one_hot(train_target).float()\n",
    "        F.one_hot(test_target).float()\n",
    "    else:\n",
    "        criterion = nn.CrossEntropyLoss()\n",
    "    for e in range(nb_epochs):\n",
    "        acc_loss = 0\n",
    "        # We do this with mini-batches\n",
    "        for b in range(0, train_input.size(0), mini_batch_size):\n",
    "            output = model(train_input.narrow(0, b, mini_batch_size))\n",
    "            if mse == True:\n",
    "                loss = criterion(output, F.one_hot(train_target).float().narrow(0, b, mini_batch_size))\n",
    "            else:\n",
    "                loss = criterion(output, train_target.narrow(0, b, mini_batch_size))\n",
    "            acc_loss = acc_loss + loss.item()\n",
    "\n",
    "            model.zero_grad()\n",
    "            loss.backward()\n",
    "            with torch.no_grad():\n",
    "                for p in model.parameters():\n",
    "                    p -= eta * p.grad\n",
    "                        \n",
    "\n",
    "        train_acc_loss_list.append(acc_loss)\n",
    "                        \n",
    "        #Chech the accuracy in the train set\n",
    "        pred = model(train_input).max(1)[1]\n",
    "        verificar = pred == train_target\n",
    "        acc = (verificar.sum().item() / train_target.size()[0]) * 100\n",
    "        train_acc.append(acc)\n",
    "            \n",
    "        #Check the accuracy in the test set\n",
    "        pred = model(test_input).max(1)[1]\n",
    "        verificar = pred == test_target\n",
    "        acc = (verificar.sum().item() / test_target.size()[0]) * 100\n",
    "        test_acc.append(acc)\n",
    "            \n",
    "        #Check the loss in the test set\n",
    "        output = model(test_input)\n",
    "        if mse == True:\n",
    "            test_loss = criterion(output, F.one_hot(test_target).float())\n",
    "        else:\n",
    "            test_loss = criterion(output, test_target)\n",
    "        test_acc__loss_list.append(test_loss.item())\n",
    "            \n",
    "            \n",
    "            \n",
    "\n",
    "\n",
    "    return train_acc_loss_list, test_acc__loss_list, train_acc, test_acc\n"
   ]
  },
  {
   "cell_type": "code",
   "execution_count": 301,
   "id": "a83377b9",
   "metadata": {},
   "outputs": [
    {
     "name": "stdout",
     "output_type": "stream",
     "text": [
      "torch.Size([16, 2, 4, 4])\n",
      "torch.Size([16])\n",
      "torch.Size([32, 16, 4, 4])\n",
      "torch.Size([32])\n",
      "torch.Size([64, 128])\n",
      "torch.Size([64])\n",
      "torch.Size([32, 64])\n",
      "torch.Size([32])\n",
      "torch.Size([2, 32])\n",
      "torch.Size([2])\n",
      "torch.Size([16])\n",
      "torch.Size([16])\n"
     ]
    }
   ],
   "source": [
    "model.parameters()\n",
    "for i in model.parameters():\n",
    "    print(i.size())"
   ]
  },
  {
   "cell_type": "code",
   "execution_count": 299,
   "id": "1dc59910",
   "metadata": {},
   "outputs": [],
   "source": [
    "_, _, train_acc, test_acc = train_model(model, train_input,train_target, \n",
    "                                        test_input, test_target, mini_batch_size = 50, \n",
    "                                        nb_epochs = 10, learning_rate = 1e-1, \n",
    "                                        eta = 1e-1, mse = False)"
   ]
  },
  {
   "cell_type": "code",
   "execution_count": 300,
   "id": "57d01048",
   "metadata": {},
   "outputs": [
    {
     "name": "stdout",
     "output_type": "stream",
     "text": [
      "[56.39999999999999, 67.2, 71.7, 76.2, 77.7, 83.7, 82.6, 88.2, 91.4, 85.2]\n",
      "[57.49999999999999, 65.9, 70.39999999999999, 72.0, 71.7, 74.8, 74.2, 77.0, 78.9, 76.2]\n"
     ]
    }
   ],
   "source": [
    "print(train_acc)\n",
    "print(test_acc)"
   ]
  },
  {
   "cell_type": "code",
   "execution_count": 311,
   "id": "9530a6f9",
   "metadata": {},
   "outputs": [
    {
     "data": {
      "image/png": "[encoded data removed]",
      "text/plain": [
       "<Figure size 432x288 with 1 Axes>"
      ]
     },
     "metadata": {
      "needs_background": "light"
     },
     "output_type": "display_data"
    }
   ],
   "source": [
    "plt.plot(train_acc, label = \"train_acc\")\n",
    "plt.plot(test_acc, label = \"test_acc\")\n",
    "plt.legend(title='accuracy')\n",
    "plt.show()"
   ]
  },
  {
   "cell_type": "code",
   "execution_count": null,
   "id": "6437d0f0",
   "metadata": {},
   "outputs": [],
   "source": []
  }
 ],
 "metadata": {
  "kernelspec": {
   "display_name": "Python 3",
   "language": "python",
   "name": "python3"
  },
  "language_info": {
   "codemirror_mode": {
    "name": "ipython",
    "version": 3
   },
   "file_extension": ".py",
   "mimetype": "text/x-python",
   "name": "python",
   "nbconvert_exporter": "python",
   "pygments_lexer": "ipython3",
   "version": "3.8.8"
  }
 },
 "nbformat": 4,
 "nbformat_minor": 5
}
