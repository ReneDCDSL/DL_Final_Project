{
 "cells": [
  {
   "cell_type": "code",
   "execution_count": 125,
   "id": "ae69bd79",
   "metadata": {},
   "outputs": [],
   "source": [
    "import torch\n",
    "import inspect\n",
    "import math\n",
    "from time import perf_counter\n",
    "from torchvision import datasets\n",
    "import torchvision.transforms as transforms\n",
    "import matplotlib.pyplot as plt\n",
    "from torch import nn\n",
    "from torch.nn import functional as F\n",
    "import dlc_practical_prologue as prologue\n",
    "import os    \n",
    "import itertools \n",
    "import torch.optim as optim\n",
    "os.environ['KMP_DUPLICATE_LIB_OK']='True'\n",
    "%matplotlib inline  "
   ]
  },
  {
   "cell_type": "code",
   "execution_count": 13,
   "id": "c3abeec4",
   "metadata": {},
   "outputs": [],
   "source": [
    "train_input, train_target, train_classes, test_input, test_target, test_classes  = prologue.generate_pair_sets(1000)"
   ]
  },
  {
   "cell_type": "code",
   "execution_count": 6,
   "id": "05a9560a",
   "metadata": {},
   "outputs": [],
   "source": [
    "def showTensor(aTensor):\n",
    "    fig = plt.figure(figsize=(5, 5), dpi=20)\n",
    "    plt.axis('off')\n",
    "    plt.figure()\n",
    "    plt.imshow(aTensor.numpy(), cmap='Greys')\n",
    "    #plt.colorbar()\n",
    "    plt.show()"
   ]
  },
  {
   "cell_type": "code",
   "execution_count": 23,
   "id": "4d70b9c5",
   "metadata": {},
   "outputs": [
    {
     "data": {
      "text/plain": [
       "torch.Size([1000])"
      ]
     },
     "execution_count": 23,
     "metadata": {},
     "output_type": "execute_result"
    }
   ],
   "source": [
    "test_classes[:, 0]"
   ]
  },
  {
   "cell_type": "code",
   "execution_count": 130,
   "id": "041e2a2e",
   "metadata": {},
   "outputs": [],
   "source": [
    "class Net(nn.Module):\n",
    "    def __init__(self):\n",
    "        super().__init__()\n",
    "        self.conv1 = nn.Conv2d(2, 16, kernel_size=4)\n",
    "        self.conv2 = nn.Conv2d(16, 32, kernel_size=4)\n",
    "        self.fc1 = nn.Linear(128, 64)\n",
    "        self.fc2 = nn.Linear(64, 32)\n",
    "        self.fc3 = nn.Linear(32, 2)\n",
    "        # uses BatchNorm cause otherwise the model lose the gradient with higher learning rates\n",
    "        #self.norm1d = nn.BatchNorm1d(128)\n",
    "        self.norm2d = nn.BatchNorm2d(16)\n",
    "\n",
    "    def forward(self, x):\n",
    "        x = F.relu(F.max_pool2d(self.conv1(x), kernel_size=4, stride=1))\n",
    "        x = self.norm2d(x)\n",
    "        x = F.relu(F.max_pool2d(self.conv2(x), kernel_size=4, stride=1))\n",
    "        x = x.view(-1, 128)\n",
    "        #x = self.norm1d(x)\n",
    "        x = F.relu(self.fc1(x))\n",
    "        x = F.relu(self.fc2(x))\n",
    "        x = self.fc3(x)\n",
    "        return x, x\n",
    "\n",
    "class Net_classes(nn.Module):\n",
    "    \n",
    "    def __init__(self):\n",
    "        super().__init__()\n",
    "        self.conv1 = nn.Conv2d(1, 16, kernel_size=4)\n",
    "        self.conv2 = nn.Conv2d(16, 32, kernel_size=4)\n",
    "        self.fc1 = nn.Linear(128, 64)\n",
    "        self.fc2 = nn.Linear(64, 32)\n",
    "        self.fc3 = nn.Linear(32, 10)\n",
    "        # uses BatchNorm cause otherwise the model lose the gradient with higher learning rates\n",
    "        #self.norm1d = nn.BatchNorm1d(128)\n",
    "        self.norm2d = nn.BatchNorm2d(16)\n",
    "\n",
    "    def forward(self, x):\n",
    "        x = F.relu(F.max_pool2d(self.conv1(x), kernel_size=4, stride=1))\n",
    "        print(x.size())\n",
    "        x = self.norm2d(x)\n",
    "        print(x.size())\n",
    "        x = F.relu(F.max_pool2d(self.conv2(x), kernel_size=4, stride=1))\n",
    "        print(x.size())\n",
    "        x = x.view(-1, 128)\n",
    "        #x = self.norm1d(x)\n",
    "        x = F.relu(self.fc1(x))\n",
    "        x = F.relu(self.fc2(x))\n",
    "        x = self.fc3(x)\n",
    "        return x\n",
    "    \n",
    "\n",
    "class Net_twins(nn.Module):\n",
    "    \n",
    "    def __init__(self):\n",
    "        super().__init__()\n",
    "        self.conv1 = nn.Conv2d(1, 16, kernel_size=4)\n",
    "        self.conv2 = nn.Conv2d(16, 32, kernel_size=4)\n",
    "        self.fc1 = nn.Linear(128, 64)\n",
    "        self.fc2 = nn.Linear(64, 32)\n",
    "        self.fc3 = nn.Linear(32, 10)\n",
    "        # uses BatchNorm cause otherwise the model lose the gradient with higher learning rates\n",
    "        #self.norm1d = nn.BatchNorm1d(128)\n",
    "        self.norm2d = nn.BatchNorm2d(16)\n",
    "\n",
    "    def forward(self, x):\n",
    "        \n",
    "        x1 = x[:, 0, :, :].unsqueeze_(1)\n",
    "        x2 = x[:, 1, :, :].unsqueeze_(1)\n",
    "        \n",
    "        x1 = F.relu(F.max_pool2d(self.conv1(x1), kernel_size=4, stride=1))\n",
    "        x1 = self.norm2d(x1)\n",
    "        x1 = F.relu(F.max_pool2d(self.conv2(x1), kernel_size=4, stride=1))\n",
    "        x1 = x1.view(-1, 128)\n",
    "        #x = self.norm1d(x)\n",
    "        x1 = F.relu(self.fc1(x1))\n",
    "        x1 = F.relu(self.fc2(x1))\n",
    "        x1 = self.fc3(x1)\n",
    "        \n",
    "        x2 = F.relu(F.max_pool2d(self.conv1(x2), kernel_size=4, stride=1))\n",
    "        x2 = self.norm2d(x2)\n",
    "        x2 = F.relu(F.max_pool2d(self.conv2(x2), kernel_size=4, stride=1))\n",
    "        x2 = x2.view(-1, 128)\n",
    "        #x = self.norm1d(x)\n",
    "        x2 = F.relu(self.fc1(x2))\n",
    "        x2 = F.relu(self.fc2(x2))\n",
    "        x2 = self.fc3(x2)\n",
    "        \n",
    "        return x1, x2\n",
    "    \n",
    "#model, criterion = Net(), nn.MSELoss()\n",
    "#eta, mini_batch_size = 1e-1, 50\n",
    "#nb_epochs = 10\n",
    "\n",
    "\n",
    "\n",
    "\n",
    "\n",
    "\n",
    "def train_model(model, train_input,train_target, test_input, test_target, mini_batch_size = 50, \n",
    "                nb_epochs = 10, learning_rate = 1e-1, \n",
    "                eta = 1e-1, mse = True):\n",
    "    \n",
    "    \n",
    "    train_acc_loss_list = []\n",
    "    test_acc__loss_list = []\n",
    "    train_acc = []\n",
    "    test_acc = []\n",
    "    if mse == True:\n",
    "        criterion = nn.MSELoss()\n",
    "        F.one_hot(train_target).float()\n",
    "        F.one_hot(test_target).float()\n",
    "    else:\n",
    "        criterion = nn.CrossEntropyLoss()\n",
    "    for e in range(nb_epochs):\n",
    "        acc_loss = 0\n",
    "        # We do this with mini-batches\n",
    "        for b in range(0, train_input.size(0), mini_batch_size):\n",
    "            output = model(train_input.narrow(0, b, mini_batch_size))\n",
    "            if mse == True:\n",
    "                loss = criterion(output, F.one_hot(train_target).float().narrow(0, b, mini_batch_size))\n",
    "            else:\n",
    "                loss = criterion(output, train_target.narrow(0, b, mini_batch_size))\n",
    "            acc_loss = acc_loss + loss.item()\n",
    "\n",
    "            model.zero_grad()\n",
    "            loss.backward()\n",
    "            with torch.no_grad():\n",
    "                for p in model.parameters():\n",
    "                    p -= eta * p.grad\n",
    "                        \n",
    "\n",
    "        train_acc_loss_list.append(acc_loss)\n",
    "                        \n",
    "        #Chech the accuracy in the train set\n",
    "        pred = model(train_input).max(1)[1]\n",
    "        verificar = pred == train_target\n",
    "        acc = (verificar.sum().item() / train_target.size()[0]) * 100\n",
    "        train_acc.append(acc)\n",
    "            \n",
    "        #Check the accuracy in the test set\n",
    "        pred = model(test_input).max(1)[1]\n",
    "        verificar = pred == test_target\n",
    "        acc = (verificar.sum().item() / test_target.size()[0]) * 100\n",
    "        test_acc.append(acc)\n",
    "            \n",
    "        #Check the loss in the test set\n",
    "        output = model(test_input)\n",
    "        if mse == True:\n",
    "            test_loss = criterion(output, F.one_hot(test_target).float())\n",
    "        else:\n",
    "            test_loss = criterion(output, test_target)\n",
    "        test_acc__loss_list.append(test_loss.item())\n",
    "            \n",
    "            \n",
    "            \n",
    "\n",
    "\n",
    "    return train_acc_loss_list, test_acc__loss_list, train_acc, test_acc\n",
    "\n",
    "\n",
    "\n",
    "def train_twins(model, train_input,train_target, test_input, test_target, mini_batch_size = 50, nb_epochs = 10, \n",
    "                learning_rate = 1e-1, \n",
    "                eta = 1e-1, mse = True):\n",
    "    \n",
    "     \n",
    "    \n",
    "    x1_target = train_classes[:, 0]\n",
    "    x2_target = train_classes[:, 1]\n",
    "    x1_test = train_classes[:, 0]\n",
    "    x2_test = train_classes[:, 1]\n",
    "    \n",
    "    train_acc_loss_list = []\n",
    "    test_acc__loss_list = []\n",
    "    train_acc = []\n",
    "    test_acc = []\n",
    "    \n",
    "    \n",
    "    \n",
    "    if mse == True:\n",
    "        criterion = nn.MSELoss()\n",
    "        F.one_hot(train_target).float()\n",
    "        F.one_hot(test_target).float()\n",
    "    else:\n",
    "        criterion = nn.CrossEntropyLoss()\n",
    "    for e in range(nb_epochs):\n",
    "        acc_loss = 0\n",
    "        # We do this with mini-batches\n",
    "        \n",
    "        # Train with the first image\n",
    "        for b in range(0, train_input.size(0), mini_batch_size):\n",
    "            output1, output2 = model(train_input.narrow(0, b, mini_batch_size))\n",
    "            #for output, train_target in (output1, x1_target), (output2, x2_target):\n",
    "                \n",
    "            if mse == True:\n",
    "                loss = criterion(output1, F.one_hot(x1_target,10).float().narrow(0, b, mini_batch_size))\n",
    "            else:\n",
    "                loss = criterion(output1, x1_target.narrow(0, b, mini_batch_size))\n",
    "                acc_loss = acc_loss + loss.item()\n",
    "                \n",
    "                \n",
    "                torch.autograd.set_detect_anomaly(True)\n",
    "                model.zero_grad()\n",
    "                loss.backward()\n",
    "                \n",
    "                with torch.no_grad():\n",
    "                    for p in model.parameters():\n",
    "                        p -= eta * p.grad\n",
    "                        \n",
    "                        \n",
    "        # Train with the seccond image\n",
    "        for b in range(0, train_input.size(0), mini_batch_size):\n",
    "            output1, output2 = model(train_input.narrow(0, b, mini_batch_size))\n",
    "            #for output, train_target in (output1, x1_target), (output2, x2_target):\n",
    "                \n",
    "            if mse == True:\n",
    "                loss = criterion(output2, F.one_hot(x1_target,10).float().narrow(0, b, mini_batch_size))\n",
    "            else:\n",
    "                loss = criterion(output1, x1_target.narrow(0, b, mini_batch_size))\n",
    "                acc_loss = acc_loss + loss.item()\n",
    "                \n",
    "                \n",
    "                model.zero_grad()\n",
    "                loss.backward()\n",
    "                \n",
    "                \n",
    "                with torch.no_grad():\n",
    "                    for p in model.parameters():\n",
    "                        p -= eta * p.grad\n",
    "                        \n",
    "                        \n",
    "            \n",
    "                        \n",
    "        train_acc_loss_list.append(acc_loss)\n",
    "                        \n",
    "        #Chech the accuracy in the train set\n",
    "        pred1, pred2 = model(train_input)\n",
    "        pred = pred1.max(1)[1] <= pred2.max(1)[1]\n",
    "        verificar = sum(pred == train_target)\n",
    "        acc = (verificar.sum().item() / train_target.size()[0]) * 100\n",
    "        train_acc.append(acc)\n",
    "            \n",
    "        #Check the accuracy in the test set\n",
    "        pred1, pred2 = model(test_input)\n",
    "        pred = pred1.max(1)[1] <= pred2.max(1)[1]\n",
    "        verificar = sum(pred == test_target)\n",
    "        acc = (verificar.sum().item() / test_target.size()[0]) * 100\n",
    "        test_acc.append(acc)\n",
    "            \n",
    "        #Check the loss in the test set\n",
    "        #output = model(test_input)\n",
    "        #if mse == True:\n",
    "            #test_loss = criterion(output, F.one_hot(test_target).float())\n",
    "        #else:\n",
    "            #test_loss = criterion(output, test_target)\n",
    "        #test_acc__loss_list.append(test_loss.item())\n",
    "            \n",
    "            \n",
    "            \n",
    "\n",
    "\n",
    "    return train_acc_loss_list, train_acc, test_acc\n",
    "\n"
   ]
  },
  {
   "cell_type": "code",
   "execution_count": 132,
   "id": "a83377b9",
   "metadata": {},
   "outputs": [
    {
     "name": "stdout",
     "output_type": "stream",
     "text": [
      "[65.4, 79.9, 91.3, 94.3, 94.39999999999999, 96.89999999999999, 97.5, 97.7, 97.5, 97.5, 97.6, 97.6, 97.5, 97.5, 97.5, 97.5, 97.5, 97.5, 97.5, 97.5, 97.5, 97.5, 97.5, 97.5, 97.5, 97.5, 97.5, 97.5, 97.5, 97.5, 97.5, 97.5, 97.5, 97.5, 97.5, 97.5, 97.5, 97.5, 97.5, 97.5, 97.5, 97.39999999999999, 97.39999999999999, 97.39999999999999, 97.39999999999999, 97.39999999999999, 97.39999999999999, 97.39999999999999, 97.39999999999999, 97.39999999999999]\n",
      "[68.5, 80.7, 90.9, 93.5, 93.60000000000001, 94.89999999999999, 95.5, 95.6, 95.6, 95.6, 95.6, 95.8, 95.8, 95.6, 95.6, 95.6, 95.6, 95.6, 95.6, 95.6, 95.6, 95.6, 95.6, 95.5, 95.5, 95.5, 95.5, 95.5, 95.5, 95.5, 95.5, 95.5, 95.5, 95.5, 95.5, 95.5, 95.5, 95.5, 95.5, 95.5, 95.5, 95.5, 95.5, 95.5, 95.5, 95.5, 95.5, 95.5, 95.5, 95.5]\n"
     ]
    },
    {
     "data": {
      "image/png": "[encoded data removed]",
      "text/plain": [
       "<Figure size 432x288 with 1 Axes>"
      ]
     },
     "metadata": {
      "needs_background": "light"
     },
     "output_type": "display_data"
    }
   ],
   "source": [
    "\n",
    "model = Net_twins()\n",
    "\n",
    "\n",
    "\n",
    "\n",
    "train_acc_loss_list, train_acc, test_acc =train_twins(model, train_input,train_target, \n",
    "                                                      test_input, test_target, mini_batch_size = 50, nb_epochs = 50, \n",
    "                                                      learning_rate = 1e-1, \n",
    "                                                      eta = 1e-1, mse = True)\n",
    "\n",
    "\n",
    "\n",
    "print(train_acc)\n",
    "print(test_acc)\n",
    "plt.plot(train_acc, label = \"train_acc\")\n",
    "plt.plot(test_acc, label = \"test_acc\")\n",
    "plt.legend(title='accuracy')\n",
    "plt.show()\n"
   ]
  },
  {
   "cell_type": "code",
   "execution_count": 115,
   "id": "85412815",
   "metadata": {},
   "outputs": [
    {
     "data": {
      "text/plain": [
       "tensor(966)"
      ]
     },
     "execution_count": 115,
     "metadata": {},
     "output_type": "execute_result"
    }
   ],
   "source": [
    "pred1, pred2 = model(test_input)\n",
    "pred = pred1.max(1)[1] <= pred2.max(1)[1]\n",
    "sum(pred == test_target)\n",
    "\n",
    "\n",
    "\n"
   ]
  },
  {
   "cell_type": "code",
   "execution_count": 113,
   "id": "a32f3247",
   "metadata": {},
   "outputs": [
    {
     "data": {
      "text/plain": [
       "tensor(1000)"
      ]
     },
     "execution_count": 113,
     "metadata": {},
     "output_type": "execute_result"
    }
   ],
   "source": [
    "\n",
    "\n",
    "\n",
    "\n",
    "\n",
    "y1 = test_classes[:,0] <= test_classes[:,1]\n",
    "sum(y1 == test_target)"
   ]
  },
  {
   "cell_type": "code",
   "execution_count": 56,
   "id": "1dc59910",
   "metadata": {},
   "outputs": [
    {
     "data": {
      "image/png": "[encoded data removed]",
      "text/plain": [
       "<Figure size 432x288 with 1 Axes>"
      ]
     },
     "metadata": {
      "needs_background": "light"
     },
     "output_type": "display_data"
    }
   ],
   "source": [
    "\n",
    "model = Net_classes()\n",
    "\n",
    "img1_train = train_input[:, 0, :, :].unsqueeze_(1)\n",
    "class_train_target = train_classes[:, 0]\n",
    "\n",
    "img1_test = test_input[:, 0, :, :].unsqueeze_(1)\n",
    "class_test_target = test_classes[:, 0]\n",
    "\n",
    "_, _, train_acc, test_acc = train_model(model, \n",
    "                                        train_input = img1_train,\n",
    "                                        train_target = class_train_target, \n",
    "                                        test_input = img1_test, \n",
    "                                        test_target = class_test_target, \n",
    "                                        mini_batch_size = 10, \n",
    "                                        nb_epochs = 50, \n",
    "                                        learning_rate = 1e-1, \n",
    "                                        eta = 1e-1, \n",
    "                                        mse = True)\n",
    "\n",
    "plt.plot(train_acc, label = \"train_acc\")\n",
    "plt.plot(test_acc, label = \"test_acc\")\n",
    "plt.legend(title='accuracy')\n",
    "plt.show()\n",
    "\n"
   ]
  },
  {
   "cell_type": "code",
   "execution_count": 50,
   "id": "57d01048",
   "metadata": {},
   "outputs": [
    {
     "name": "stdout",
     "output_type": "stream",
     "text": [
      "[38.0, 56.10000000000001, 68.30000000000001, 78.5, 85.9, 89.2, 92.0, 93.5, 94.3, 95.19999999999999, 95.5, 96.1, 96.5, 97.2, 97.8, 98.1, 98.4, 98.6, 98.7, 98.9, 98.9, 99.1, 99.1, 99.1, 99.2, 99.3, 99.4, 99.4, 99.4, 99.4, 99.5, 99.6, 99.6, 99.7, 99.7, 99.7, 99.8, 99.8, 99.8, 99.8, 99.8, 99.8, 99.8, 99.8, 99.9, 99.9, 99.9, 99.9, 99.9, 99.9]\n",
      "[35.4, 52.400000000000006, 65.3, 75.2, 82.8, 86.2, 88.3, 89.7, 91.10000000000001, 91.9, 92.9, 93.10000000000001, 93.2, 93.2, 93.7, 93.60000000000001, 94.1, 94.69999999999999, 94.69999999999999, 94.69999999999999, 94.8, 94.69999999999999, 94.8, 94.8, 94.89999999999999, 94.89999999999999, 94.89999999999999, 94.89999999999999, 94.89999999999999, 94.8, 94.89999999999999, 94.89999999999999, 94.89999999999999, 95.0, 95.0, 95.1, 95.1, 95.1, 94.89999999999999, 94.69999999999999, 94.69999999999999, 94.69999999999999, 94.69999999999999, 94.69999999999999, 94.69999999999999, 94.69999999999999, 94.69999999999999, 94.69999999999999, 94.69999999999999, 94.6]\n"
     ]
    }
   ],
   "source": []
  },
  {
   "cell_type": "code",
   "execution_count": 51,
   "id": "9530a6f9",
   "metadata": {},
   "outputs": [
    {
     "data": {
      "image/png": "[encoded data removed]",
      "text/plain": [
       "<Figure size 432x288 with 1 Axes>"
      ]
     },
     "metadata": {
      "needs_background": "light"
     },
     "output_type": "display_data"
    }
   ],
   "source": [
    "plt.plot(train_acc, label = \"train_acc\")\n",
    "plt.plot(test_acc, label = \"test_acc\")\n",
    "plt.legend(title='accuracy')\n",
    "plt.show()"
   ]
  },
  {
   "cell_type": "code",
   "execution_count": 8,
   "id": "6437d0f0",
   "metadata": {},
   "outputs": [],
   "source": [
    "output1, output2 = model(train_input)"
   ]
  },
  {
   "cell_type": "code",
   "execution_count": 10,
   "id": "0776ffdb",
   "metadata": {},
   "outputs": [
    {
     "data": {
      "text/plain": [
       "tensor([[0.1604, 0.1205],\n",
       "        [0.1456, 0.1554],\n",
       "        [0.1712, 0.1313],\n",
       "        ...,\n",
       "        [0.0910, 0.0668],\n",
       "        [0.1580, 0.1209],\n",
       "        [0.0888, 0.0898]], grad_fn=<AddmmBackward0>)"
      ]
     },
     "execution_count": 10,
     "metadata": {},
     "output_type": "execute_result"
    }
   ],
   "source": [
    "output2"
   ]
  },
  {
   "cell_type": "code",
   "execution_count": 19,
   "id": "ddf364fb",
   "metadata": {},
   "outputs": [
    {
     "name": "stdout",
     "output_type": "stream",
     "text": [
      "torch.Size([1000, 14, 14])\n",
      "torch.Size([1000, 1, 14, 14])\n"
     ]
    }
   ],
   "source": [
    "print(train_input[:, 0, :, :].size())  # All first pair\n",
    "print(train_input[:, 0, :, :].unsqueeze_(1).size())"
   ]
  },
  {
   "cell_type": "code",
   "execution_count": 32,
   "id": "9ef6fc1e",
   "metadata": {},
   "outputs": [
    {
     "data": {
      "text/plain": [
       "tensor([[ 0.2152, -0.0063,  0.1182,  ...,  0.0486,  0.1529,  0.0439],\n",
       "        [ 0.2613,  0.0689,  0.0730,  ...,  0.1259,  0.1625,  0.0596],\n",
       "        [ 0.2798,  0.0427,  0.1269,  ...,  0.1104,  0.1724,  0.0689],\n",
       "        ...,\n",
       "        [ 0.2466,  0.0691,  0.1060,  ...,  0.1001,  0.1741,  0.0561],\n",
       "        [ 0.2739,  0.0711,  0.1271,  ...,  0.0949,  0.1810,  0.0391],\n",
       "        [ 0.2298,  0.0547,  0.1310,  ...,  0.1076,  0.1968,  0.0741]],\n",
       "       grad_fn=<AddmmBackward0>)"
      ]
     },
     "execution_count": 32,
     "metadata": {},
     "output_type": "execute_result"
    }
   ],
   "source": [
    "model = Net_classes()\n",
    "img1 = train_input[:, 0, :, :].unsqueeze_(1)\n",
    "model(img1)"
   ]
  },
  {
   "cell_type": "code",
   "execution_count": 28,
   "id": "27939115",
   "metadata": {},
   "outputs": [
    {
     "data": {
      "text/plain": [
       "torch.Size([1000, 2, 14, 14])"
      ]
     },
     "execution_count": 28,
     "metadata": {},
     "output_type": "execute_result"
    }
   ],
   "source": [
    "train_input.size()"
   ]
  },
  {
   "cell_type": "code",
   "execution_count": 29,
   "id": "760478ef",
   "metadata": {},
   "outputs": [
    {
     "data": {
      "text/plain": [
       "torch.Size([1000, 1, 14, 14])"
      ]
     },
     "execution_count": 29,
     "metadata": {},
     "output_type": "execute_result"
    }
   ],
   "source": [
    "train_input[:, 0, :, :].unsqueeze_(1).size()"
   ]
  },
  {
   "cell_type": "code",
   "execution_count": 55,
   "id": "cd24ce1d",
   "metadata": {},
   "outputs": [
    {
     "name": "stdout",
     "output_type": "stream",
     "text": [
      "1 2\n",
      "3 4\n"
     ]
    }
   ],
   "source": [
    "x1 = 1\n",
    "x2 = 2\n",
    "x3 = 3\n",
    "x4 = 4\n",
    "\n",
    "for i,j in (x1, x2), (x3,x4):\n",
    "    print (i,j)\n",
    "\n"
   ]
  },
  {
   "cell_type": "code",
   "execution_count": 70,
   "id": "ba49431c",
   "metadata": {},
   "outputs": [
    {
     "name": "stdout",
     "output_type": "stream",
     "text": [
      "torch.Size([1000, 16, 8, 8])\n",
      "torch.Size([1000, 16, 8, 8])\n",
      "torch.Size([1000, 32, 2, 2])\n"
     ]
    },
    {
     "data": {
      "text/plain": [
       "tensor([[-0.0293,  0.0981, -0.0103,  ..., -0.1808,  0.0090, -0.0733],\n",
       "        [-0.0163,  0.0703,  0.0496,  ..., -0.1372, -0.0012, -0.0797],\n",
       "        [-0.0707,  0.0683, -0.0657,  ..., -0.2153,  0.0741, -0.1617],\n",
       "        ...,\n",
       "        [-0.0343,  0.0652, -0.0061,  ..., -0.1710, -0.0032, -0.0749],\n",
       "        [-0.0637,  0.0587, -0.0483,  ..., -0.2123,  0.0620, -0.1782],\n",
       "        [-0.0867,  0.0770, -0.0674,  ..., -0.2652,  0.0900, -0.1957]],\n",
       "       grad_fn=<AddmmBackward0>)"
      ]
     },
     "execution_count": 70,
     "metadata": {},
     "output_type": "execute_result"
    }
   ],
   "source": [
    "model = Net_classes()\n",
    "model(train_input[:, 0, :, :].unsqueeze_(1))"
   ]
  },
  {
   "cell_type": "code",
   "execution_count": 91,
   "id": "3226771d",
   "metadata": {},
   "outputs": [
    {
     "name": "stdout",
     "output_type": "stream",
     "text": [
      "torch.Size([1000, 1, 14, 14])\n",
      "torch.Size([1000, 1, 14, 14])\n",
      "torch.Size([1000, 16, 8, 8])\n",
      "torch.Size([1000, 16, 8, 8])\n",
      "torch.Size([1000, 32, 2, 2])\n"
     ]
    },
    {
     "data": {
      "text/plain": [
       "(tensor([[ 0.2032, -0.1717, -0.1775,  ...,  0.0801,  0.1910, -0.1152],\n",
       "         [ 0.1571, -0.1572, -0.1450,  ...,  0.0620,  0.1475, -0.1265],\n",
       "         [ 0.1773, -0.1808, -0.1307,  ...,  0.0330,  0.1482, -0.1022],\n",
       "         ...,\n",
       "         [ 0.1810, -0.1770, -0.1765,  ...,  0.0635,  0.1679, -0.0998],\n",
       "         [ 0.1900, -0.2336, -0.1721,  ...,  0.0687,  0.1647, -0.1266],\n",
       "         [ 0.2097, -0.1336, -0.2026,  ...,  0.1203,  0.2410, -0.0961]],\n",
       "        grad_fn=<AddmmBackward0>),\n",
       " tensor([[ 0.1619, -0.1707, -0.1273,  ...,  0.0478,  0.1331, -0.1016],\n",
       "         [ 0.1312, -0.1878, -0.0963,  ...,  0.0402,  0.0846, -0.1124],\n",
       "         [ 0.2126, -0.1492, -0.1727,  ...,  0.1029,  0.2189, -0.1289],\n",
       "         ...,\n",
       "         [ 0.1864, -0.1400, -0.1655,  ...,  0.0587,  0.1781, -0.0935],\n",
       "         [ 0.1194, -0.1853, -0.0783,  ...,  0.0564,  0.0816, -0.1139],\n",
       "         [ 0.1768, -0.1677, -0.1407,  ...,  0.0479,  0.1600, -0.0970]],\n",
       "        grad_fn=<AddmmBackward0>))"
      ]
     },
     "execution_count": 91,
     "metadata": {},
     "output_type": "execute_result"
    }
   ],
   "source": [
    "model = Net_twins()\n",
    "\n",
    "x1 = train_input[:, 0, :, :].unsqueeze_(1)\n",
    "x2 = train_input[:, 1, :, :].unsqueeze_(1)\n",
    "\n",
    "model(train_input)"
   ]
  },
  {
   "cell_type": "code",
   "execution_count": null,
   "id": "de7d95bb",
   "metadata": {},
   "outputs": [],
   "source": []
  }
 ],
 "metadata": {
  "kernelspec": {
   "display_name": "Python 3",
   "language": "python",
   "name": "python3"
  },
  "language_info": {
   "codemirror_mode": {
    "name": "ipython",
    "version": 3
   },
   "file_extension": ".py",
   "mimetype": "text/x-python",
   "name": "python",
   "nbconvert_exporter": "python",
   "pygments_lexer": "ipython3",
   "version": "3.8.8"
  }
 },
 "nbformat": 4,
 "nbformat_minor": 5
}
